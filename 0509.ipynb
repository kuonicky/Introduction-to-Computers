{
  "nbformat": 4,
  "nbformat_minor": 0,
  "metadata": {
    "colab": {
      "name": "0509.ipynb",
      "provenance": [],
      "collapsed_sections": [],
      "authorship_tag": "ABX9TyOgMmV6hUsOlRoUmuE7NS1+",
      "include_colab_link": true
    },
    "kernelspec": {
      "name": "python3",
      "display_name": "Python 3"
    },
    "language_info": {
      "name": "python"
    }
  },
  "cells": [
    {
      "cell_type": "markdown",
      "metadata": {
        "id": "view-in-github",
        "colab_type": "text"
      },
      "source": [
        "<a href=\"https://colab.research.google.com/github/kuonicky/Introduction-to-Computers/blob/main/0509.ipynb\" target=\"_parent\"><img src=\"https://colab.research.google.com/assets/colab-badge.svg\" alt=\"Open In Colab\"/></a>"
      ]
    },
    {
      "cell_type": "code",
      "source": [
        "temp = float(input(\"請輸入你的體溫\"))\n",
        "if temp >= 37.5:\n",
        "  print(\"體溫過高!\")\n",
        "elif temp >= 37 and temp < 37.4:\n",
        "  print(\"體溫略高!\")\n",
        "elif temp >= 34 and temp <= 36.9:\n",
        "  print(\"體溫正常!\")\n",
        "\n",
        "else:\n",
        "  print(\"體溫異常，請重新測量!\")  "
      ],
      "metadata": {
        "colab": {
          "base_uri": "https://localhost:8080/"
        },
        "id": "HB7h1bjX8smL",
        "outputId": "d59be830-d2fe-4117-9aa6-3e38367bad48"
      },
      "execution_count": 9,
      "outputs": [
        {
          "output_type": "stream",
          "name": "stdout",
          "text": [
            "請輸入你的體溫34\n",
            "體溫正常!\n"
          ]
        }
      ]
    },
    {
      "cell_type": "code",
      "source": [
        "score = float(input(\"請輸入成績\"))\n",
        "if (int(score) >= 90):\n",
        "  print(\"A\")\n",
        "elif (int(score) >= 80):\n",
        "  print(\"B\")  \n",
        "elif (int(score) >= 70):\n",
        "  print(\"C\")\n",
        "elif (int(score) >= 60):\n",
        "  print(\"D\") \n",
        "else:\n",
        "  print(\"E\")   "
      ],
      "metadata": {
        "colab": {
          "base_uri": "https://localhost:8080/"
        },
        "id": "zTffd67r-Nts",
        "outputId": "b6687457-fc96-4116-e942-643fad73cf27"
      },
      "execution_count": 20,
      "outputs": [
        {
          "output_type": "stream",
          "name": "stdout",
          "text": [
            "請輸入成績90\n",
            "A\n"
          ]
        }
      ]
    },
    {
      "cell_type": "code",
      "source": [
        "money = int(input(\"請輸入購物金額\"))\n",
        "if (money >= 10000):\n",
        "  if (money >= 100000):\n",
        "    print(\"八折\",money*0.8,end = \"元\\n\")\n",
        "  elif (money >=50000):\n",
        "    print(\"八五折\",money*0.85,end = \"元\\n\")\n",
        "  elif (money>=30000):\n",
        "    print(\"打九折\",money*0.9,end = \"元\\n\")   \n",
        "  else:\n",
        "    print(\"九五折\",money*0.95,end = \"元\\n\")   \n",
        "else:\n",
        "  print(\"沒打折\",money,end = \"元\\n\")    \n"
      ],
      "metadata": {
        "colab": {
          "base_uri": "https://localhost:8080/"
        },
        "id": "Jvt_asHqEnwc",
        "outputId": "31f69f89-2bdd-4037-ccf9-c3ea4cd45cf1"
      },
      "execution_count": 27,
      "outputs": [
        {
          "output_type": "stream",
          "name": "stdout",
          "text": [
            "請輸入購物金額20000\n",
            "九五折 19000.0元\n"
          ]
        }
      ]
    },
    {
      "cell_type": "code",
      "source": [
        "season = int(input(\"請輸入月份\"))\n",
        "if (season >=1 and season<=12):\n",
        "  if (season >= 3 and season <= 5 ):\n",
        "    print(season,\"月是春天\")\n",
        "  elif (season >= 6 and season <= 8 ):\n",
        "    print(season,\"月是夏天\")\n",
        "  elif (season >= 9 and season <=11 ):\n",
        "    print(season,\"月是秋天\")   \n",
        "  else:\n",
        "    print(season,\"月是冬天\")  \n",
        "else:\n",
        "  print(\"月份不在範圍內!\") "
      ],
      "metadata": {
        "colab": {
          "base_uri": "https://localhost:8080/"
        },
        "id": "u8-oBpHpHv8k",
        "outputId": "f27bdfb4-db4c-4c72-8ea3-2129c636a435"
      },
      "execution_count": 56,
      "outputs": [
        {
          "output_type": "stream",
          "name": "stdout",
          "text": [
            "請輸入月份5\n",
            "5 月是春天\n"
          ]
        }
      ]
    },
    {
      "cell_type": "code",
      "source": [
        "revenue = float(input(\"請輸入收入\"))\n",
        "if (revenue >=300000):\n",
        "  if (revenue >=2000000):\n",
        "    print(\"付稅金額:\",revenue*0.3,end = \"元\\n\")\n",
        "  elif (revenue >=1000000):\n",
        "    print(\"付稅金額:\",revenue*0.21,end = \"元\\n\")\n",
        "  elif (revenue >= 600000):\n",
        "    print(\"付稅金額:\",revenue*0.13,end = \"元\\n\")  \n",
        "  else:\n",
        "    print(\"付稅金額:\",revenue*0.06,end = \"元\\n\")  \n",
        "else:\n",
        "  print(\"付稅金額:\",0,end = \"元\\n\")    "
      ],
      "metadata": {
        "colab": {
          "base_uri": "https://localhost:8080/"
        },
        "id": "5adlvR3sHv0o",
        "outputId": "368e92e6-7051-4b54-df47-c08950135ebb"
      },
      "execution_count": 60,
      "outputs": [
        {
          "output_type": "stream",
          "name": "stdout",
          "text": [
            "請輸入收入100000\n",
            "付稅金額: 0元\n"
          ]
        }
      ]
    }
  ]
}